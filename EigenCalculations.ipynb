{
  "nbformat": 4,
  "nbformat_minor": 0,
  "metadata": {
    "colab": {
      "provenance": [],
      "authorship_tag": "ABX9TyMS0eRMQsq/zuxua1aotoTj",
      "include_colab_link": true
    },
    "kernelspec": {
      "name": "python3",
      "display_name": "Python 3"
    },
    "language_info": {
      "name": "python"
    }
  },
  "cells": [
    {
      "cell_type": "markdown",
      "metadata": {
        "id": "view-in-github",
        "colab_type": "text"
      },
      "source": [
        "<a href=\"https://colab.research.google.com/github/arshadzahangirchowdhury/EMD/blob/main/EigenCalculations.ipynb\" target=\"_parent\"><img src=\"https://colab.research.google.com/assets/colab-badge.svg\" alt=\"Open In Colab\"/></a>"
      ]
    },
    {
      "cell_type": "code",
      "execution_count": 1,
      "metadata": {
        "colab": {
          "base_uri": "https://localhost:8080/"
        },
        "id": "Vcmy3bd7XdiK",
        "outputId": "d28a712e-22df-4877-eece-9c2edbebd7c6"
      },
      "outputs": [
        {
          "output_type": "stream",
          "name": "stdout",
          "text": [
            "Eigenvalues\n",
            "[ 3.07417596 56.92582404  0.        ]\n",
            "Eigenvectors\n",
            "[[-0.82806723  0.56062881  0.        ]\n",
            " [-0.56062881 -0.82806723  0.        ]\n",
            " [ 0.          0.          1.        ]]\n"
          ]
        }
      ],
      "source": [
        "import numpy as np\n",
        "\n",
        "# Define the matrix (stress tensor) as input\n",
        "sigma = np.array([[20, -25, 0],\n",
        "[-25, 40, 0],\n",
        "[0, 0, 0]])\n",
        "\n",
        "# Calculate the eigenvalues and eigenvectors of the stress tensor\n",
        "eigenvalues, eigenvectors = np.linalg.eig(sigma)\n",
        "\n",
        "print('Eigenvalues')\n",
        "print(eigenvalues)\n",
        "\n",
        "print('Eigenvectors')\n",
        "print(eigenvectors)\n",
        "\n"
      ]
    },
    {
      "cell_type": "code",
      "source": [],
      "metadata": {
        "id": "GuamX2RtXnfi"
      },
      "execution_count": null,
      "outputs": []
    }
  ]
}
{
  "nbformat": 4,
  "nbformat_minor": 0,
  "metadata": {
    "colab": {
      "provenance": [],
      "authorship_tag": "ABX9TyMNm6kuhMZohqwsUBYZd8Zn",
      "include_colab_link": true
    },
    "kernelspec": {
      "name": "python3",
      "display_name": "Python 3"
    },
    "language_info": {
      "name": "python"
    }
  },
  "cells": [
    {
      "cell_type": "markdown",
      "metadata": {
        "id": "view-in-github",
        "colab_type": "text"
      },
      "source": [
        "<a href=\"https://colab.research.google.com/github/arshadzahangirchowdhury/EMD/blob/main/Fastener_Analysis_Example_1.ipynb\" target=\"_parent\"><img src=\"https://colab.research.google.com/assets/colab-badge.svg\" alt=\"Open In Colab\"/></a>"
      ]
    },
    {
      "cell_type": "markdown",
      "source": [
        "**Fastener example problem 1**\n",
        "@author: M Arshad Zahangir Chowhdury, 2025\n",
        "\n",
        "MF 16 grade 12.9 steel bolt is used to clamp steel members together with a total thickness of 55 mm. In this application, the separating force fluctuates between 0 and 110 kN. to increase fatigue life, we want to choose a bolt that has almost no thread in the grip region.  \n",
        "\n",
        "The bolt is to be designed for two different preloads (a) 70 kN, (b) 110 kN.\n",
        "\n",
        "Use, average area in member supporting load, $A_m = 800$ $mm^2$, machined finish, geometrical discontinuity for bolts, $K_f = \\frac{1}{3.5}$. The expected reliability is 99%.\n",
        "\n",
        "Determine the factor of safety guarding against significant (proof) deformation or yield for the two bolt preloads.\n",
        "\n",
        "Determine the number of cycles it will take to cause failure of the bolt due to foatigue for the two bolt preloads.\n",
        "\n",
        "\n",
        "\n",
        "---\n",
        "\n",
        "\n",
        "\n"
      ],
      "metadata": {
        "id": "G90N3SdT7GZs"
      }
    },
    {
      "cell_type": "code",
      "source": [
        "import numpy as np\n",
        "import matplotlib.pyplot as plt"
      ],
      "metadata": {
        "id": "5EpN7GETGbRs"
      },
      "execution_count": null,
      "outputs": []
    },
    {
      "cell_type": "markdown",
      "source": [
        "Solution:"
      ],
      "metadata": {
        "id": "RO_DeHlm8VYX"
      }
    },
    {
      "cell_type": "code",
      "execution_count": null,
      "metadata": {
        "colab": {
          "base_uri": "https://localhost:8080/"
        },
        "id": "HXd1mVXr6_HF",
        "outputId": "a1dd723b-39d0-4225-8923-bb631c42258f"
      },
      "outputs": [
        {
          "output_type": "stream",
          "name": "stdout",
          "text": [
            "Young's modulus (MPa): 200000\n",
            "MF-16 bolt, Collins et. al. table 13-2\n",
            "Bolt diameter (mm): 16\n",
            "Minor area (mm^2): 162\n",
            "Tensile area (mm^2): 170\n",
            "Given\n",
            "Average area in member supporting load (mm^2): 800\n",
            "Effective load carrying length (mm): 55\n",
            "From Collins et. al. table 13-5, for metric grade/class 12.9\n",
            "Minimum tensile strength (MPa): 1220\n",
            "Minimum yield strength (MPa): 1100\n",
            "Minimum proof strength (MPa): 970\n"
          ]
        }
      ],
      "source": [
        "# Data\n",
        "d_b = 16 # bolt diameter (mm) (MF-16 bolt, Collins et. al. table 13-2)\n",
        "A_r = 162 # minor area (mm^2)\n",
        "A_t = 170 # tensile area (mm^2)\n",
        "A_m = 800 # average area in member supporting load (mm^2)\n",
        "L_eff = 55 # effective load carrying length (mm), >= L_ub = Unthreaded bolt length\n",
        "\n",
        "# From Collins et. al. table 13-5, for metric grade/class 12.9\n",
        "S_u = 1220 # Minimum tensile strength (MPa)\n",
        "S_yp = 1100 # Minimum yield strength (MPa)\n",
        "S_p = 970 # Minimum proof strength (MPa)\n",
        "\n",
        "# From Collins et. al. table 3-3,\n",
        "E = 200000 # Young's modulus (MPa) , same for E_b and E_m (all steel)\n",
        "\n",
        "print(\"Young's modulus (MPa): \"+str(E))\n",
        "\n",
        "print(\"MF-16 bolt, Collins et. al. table 13-2\")\n",
        "\n",
        "print(\"Bolt diameter (mm): \" + str(d_b))\n",
        "print(\"Minor area (mm^2): \" + str(A_r))\n",
        "print(\"Tensile area (mm^2): \" + str(A_t))\n",
        "\n",
        "print(\"Given\")\n",
        "print(\"Average area in member supporting load (mm^2): \" + str(A_m))\n",
        "print(\"Effective load carrying length (mm): \" + str(L_eff))\n",
        "\n",
        "print(\"From Collins et. al. table 13-5, for metric grade/class 12.9\")\n",
        "print(\"Minimum tensile strength (MPa): \" + str(S_u))\n",
        "print(\"Minimum yield strength (MPa): \" + str(S_yp))\n",
        "print(\"Minimum proof strength (MPa): \" + str(S_p))"
      ]
    },
    {
      "cell_type": "markdown",
      "source": [
        "The length of the bolt is not given, so use Shigley's equations to pick a length for the bolt."
      ],
      "metadata": {
        "id": "l5xM3wgkAnOH"
      }
    },
    {
      "cell_type": "code",
      "source": [
        "L_t = 2*d_b + 6 # Threaded length (mm) For Standard sizes (Shigley's)\n",
        "print(\"Threaded length (mm): \" + str(L_t))"
      ],
      "metadata": {
        "colab": {
          "base_uri": "https://localhost:8080/"
        },
        "id": "Gr0aQad1AlBe",
        "outputId": "afe80a00-385a-4f0a-a631-e4fa4ff55695"
      },
      "execution_count": null,
      "outputs": [
        {
          "output_type": "stream",
          "name": "stdout",
          "text": [
            "Threaded length (mm): 38\n"
          ]
        }
      ]
    },
    {
      "cell_type": "markdown",
      "source": [
        "If you add the threaded length and the unthreaded botl length, this will give you the total length of the bolt.  "
      ],
      "metadata": {
        "id": "2x_teL1HCLkA"
      }
    },
    {
      "cell_type": "code",
      "source": [
        "print(\"Total length of the bolt, L (mm):\\n Threaded length + Unthreaded Bolt Length =  \" + str(L_t + L_eff) + \"(assuming no threads in grip)\")"
      ],
      "metadata": {
        "colab": {
          "base_uri": "https://localhost:8080/"
        },
        "id": "K0vj5vPTBHmZ",
        "outputId": "b9d985a8-43ea-4401-8150-c204a09931db"
      },
      "execution_count": null,
      "outputs": [
        {
          "output_type": "stream",
          "name": "stdout",
          "text": [
            "Total length of the bolt, L (mm):\n",
            " Threaded length + Unthreaded Bolt Length =  93\n"
          ]
        }
      ]
    },
    {
      "cell_type": "markdown",
      "source": [
        "If we pick 93 mm to be the total bolt length this will give us 55 mm of unthreaded bolt length (=effective length) and 38 mm of threaded length. Since the problem stated that we want to choose a bolt that has almost no thread in this grip region, now we have to decide. I will choose 90 mm. Which means there will be a small amount of thread in the grip region."
      ],
      "metadata": {
        "id": "hFrptDCtC01X"
      }
    },
    {
      "cell_type": "markdown",
      "source": [
        "We can choose a bolt length smaller than 93 mm."
      ],
      "metadata": {
        "id": "Mx84LK34Q3Vm"
      }
    },
    {
      "cell_type": "code",
      "source": [
        "L = 90 # Choose a bolt of total length (mm)\n",
        "L_ub = L - L_t # Unthreaded bolt length (mm)\n",
        "print(\"Chosen total length of bolt (mm): \" +str(L))\n",
        "print(\"Thus, Unthreaded bolt length (mm): \" + str(L_ub))\n",
        "print(\"Threaded bolt length (mm): \" + str(L_t)) # Remains unchanged"
      ],
      "metadata": {
        "colab": {
          "base_uri": "https://localhost:8080/"
        },
        "id": "XA_xR49RCjyj",
        "outputId": "facf80c9-6cd8-4968-9ab4-04d896a058e3"
      },
      "execution_count": null,
      "outputs": [
        {
          "output_type": "stream",
          "name": "stdout",
          "text": [
            "Chosen total length of bolt (mm): 90\n",
            "Thus, Unthreaded bolt length (mm): 52\n",
            "Threaded bolt length (mm): 38\n"
          ]
        }
      ]
    },
    {
      "cell_type": "markdown",
      "source": [
        "Now, we calculate forces on bolt and members. But first set the inputs."
      ],
      "metadata": {
        "id": "b_UzQFhDFcJq"
      }
    },
    {
      "cell_type": "code",
      "source": [
        "print(\"Input preload\")\n",
        "\n",
        "F_i = 70 #preload(N), switch to 110 kN\n",
        "\n",
        "print(\"Preload (N): \" + str(F_i))"
      ],
      "metadata": {
        "colab": {
          "base_uri": "https://localhost:8080/"
        },
        "id": "FGwNsi5HWQ4o",
        "outputId": "be30ffe5-5f4b-4d33-fc79-3de74433940e"
      },
      "execution_count": null,
      "outputs": [
        {
          "output_type": "stream",
          "name": "stdout",
          "text": [
            "Input preload\n",
            "Preload (N): 70\n"
          ]
        }
      ]
    },
    {
      "cell_type": "code",
      "source": [
        "\n",
        "\n",
        "# External (Seperating) load (kN) fluctuating between 0 and 110 kN\n",
        "P = np.linspace(0, 110, 101)\n",
        "\n",
        "\n",
        "#note you can discretize the fluctuating load for plotting\n",
        "\n",
        "print(\"Preload (N): \" + str(F_i))\n",
        "print(\"Seperating load (kN): \" + str(P))\n",
        "\n",
        "print(\"Calculated values\")\n",
        "\n",
        "k_b = (np.pi*d_b**2/4)*(E/L_eff) # Bolt stiffness (N/mm)\n",
        "print(\"Bolt stiffness (N/mm): \"+str(k_b))\n",
        "\n",
        "k_m = (A_m)*(E/L_eff) # Member stiffness (N/mm)\n",
        "print(\"Member stiffness (N/mm): \"+str(k_m))\n",
        "\n",
        "\n",
        "C_k = k_b/(k_b + k_m) # Fraction of external (separating) load carried by bolt\n",
        "print(\"Fraction of external (separating) load carried by bolt, C_k: \"+str(C_k))\n",
        "print(\"Fraction of external (separating) load carried by members, 1-C_k: \"+str(1-C_k))\n",
        "\n",
        "\n",
        "\n",
        "\n",
        "F_b = np.zeros(len(P))\n",
        "\n",
        "# F_m = -F_i+ 1-C_k*P # Member load (kN)\n",
        "# print(\"Member load (N): \"+str(F_m))\n",
        "\n",
        "\n",
        "P_sep = (0 + F_i)/(1-C_k)\n",
        "print(\"Load at which members seperate load (N): \"+str(P_sep))\n",
        "\n",
        "for i in range(0,len(P)):\n",
        "  # import pdb; pdb.set_trace()\n",
        "  if P[i]<P_sep:\n",
        "\n",
        "    F_b[i] = F_i + C_k*P[i]\n",
        "    # print(i)\n",
        "    # print(P[i])\n",
        "    # print(F_b[i])\n",
        "  else:\n",
        "    F_b[i] = P[i]\n",
        "\n",
        "# F_b = F_i + C_k*P # Bolt load (kN)\n",
        "# print(\"Bolt load (N): \"+str(F_b))\n",
        "\n",
        "plt.plot(P,F_b)\n",
        "plt.xlabel('External load, P(kN)')\n",
        "plt.ylabel('Bolt load, F_b (kN)')\n",
        "plt.grid(True)\n",
        "plt.show()"
      ],
      "metadata": {
        "colab": {
          "base_uri": "https://localhost:8080/",
          "height": 727
        },
        "id": "yN4d7maBD7gU",
        "outputId": "eed7a793-98ee-494c-e3d3-b01da5485b87"
      },
      "execution_count": null,
      "outputs": [
        {
          "output_type": "stream",
          "name": "stdout",
          "text": [
            "Preload (N): 70\n",
            "Seperating load (kN): [  0.    1.1   2.2   3.3   4.4   5.5   6.6   7.7   8.8   9.9  11.   12.1\n",
            "  13.2  14.3  15.4  16.5  17.6  18.7  19.8  20.9  22.   23.1  24.2  25.3\n",
            "  26.4  27.5  28.6  29.7  30.8  31.9  33.   34.1  35.2  36.3  37.4  38.5\n",
            "  39.6  40.7  41.8  42.9  44.   45.1  46.2  47.3  48.4  49.5  50.6  51.7\n",
            "  52.8  53.9  55.   56.1  57.2  58.3  59.4  60.5  61.6  62.7  63.8  64.9\n",
            "  66.   67.1  68.2  69.3  70.4  71.5  72.6  73.7  74.8  75.9  77.   78.1\n",
            "  79.2  80.3  81.4  82.5  83.6  84.7  85.8  86.9  88.   89.1  90.2  91.3\n",
            "  92.4  93.5  94.6  95.7  96.8  97.9  99.  100.1 101.2 102.3 103.4 104.5\n",
            " 105.6 106.7 107.8 108.9 110. ]\n",
            "Calculated values\n",
            "Bolt stiffness (N/mm): 731134.2902899883\n",
            "Member stiffness (N/mm): 2909090.909090909\n",
            "Fraction of external (separating) load carried by bolt, C_k: 0.20084864266483682\n",
            "Fraction of external (separating) load carried by members, 1-C_k: 0.7991513573351632\n",
            "Load at which members seperate load (N): 87.59291886010284\n"
          ]
        },
        {
          "output_type": "display_data",
          "data": {
            "text/plain": [
              "<Figure size 640x480 with 1 Axes>"
            ],
            "image/png": "[encoded data removed]"
          },
          "metadata": {}
        }
      ]
    },
    {
      "cell_type": "markdown",
      "source": [
        "Fluctuating P from 0 to 110 kN produces"
      ],
      "metadata": {
        "id": "zO4HXkkfQpmy"
      }
    },
    {
      "cell_type": "code",
      "source": [
        "F_b_min = np.min(F_b)\n",
        "F_b_max = np.max(F_b)\n",
        "print(\"Minimum bolt load (kN): \"+str(F_b_min))\n",
        "print(\"Maximum bolt load (kN): \"+str(F_b_max))\n",
        "\n",
        "F_b_mean = (F_b_max+F_b_min)/2\n",
        "print(\"Mean bolt load (kN): \"+str(F_b_mean))\n",
        "F_b_alternating=(F_b_max-F_b_min)/2\n",
        "print(\"Alternating bolt load (kN): \"+str(F_b_alternating))"
      ],
      "metadata": {
        "colab": {
          "base_uri": "https://localhost:8080/"
        },
        "id": "5c_jWiGfFtL-",
        "outputId": "7c0ade90-81d2-4835-bd9e-9cc83db173ca"
      },
      "execution_count": null,
      "outputs": [
        {
          "output_type": "stream",
          "name": "stdout",
          "text": [
            "Minimum bolt load (kN): 70.0\n",
            "Maximum bolt load (kN): 110.0\n",
            "Mean bolt load (kN): 90.0\n",
            "Alternating bolt load (kN): 20.0\n"
          ]
        }
      ]
    },
    {
      "cell_type": "markdown",
      "source": [
        "Factor of safety against exceeding proof strength"
      ],
      "metadata": {
        "id": "TMNxpABqRWBV"
      }
    },
    {
      "cell_type": "code",
      "source": [
        "# Factor of safety against exceeding proof strength\n",
        "\n",
        "n_b = (S_p*A_t/1000-F_i)/(F_b_max-F_i) #Divide by 1000 to convert to kN\n",
        "\n",
        "print(\"Factor of safety against exceeding proof strength, n_b: \"+str(n_b))"
      ],
      "metadata": {
        "colab": {
          "base_uri": "https://localhost:8080/"
        },
        "id": "85Q8vmgqRVwI",
        "outputId": "127f019e-5b6a-47bd-c5b6-5010c29b4dde"
      },
      "execution_count": null,
      "outputs": [
        {
          "output_type": "stream",
          "name": "stdout",
          "text": [
            "Factor of safety against exceeding proof strength, n_b: 2.3725\n"
          ]
        }
      ]
    },
    {
      "cell_type": "markdown",
      "source": [
        "Fatigue Analysis\n",
        "\n",
        "---\n",
        "\n"
      ],
      "metadata": {
        "id": "L1BUt0TbS9c7"
      }
    },
    {
      "cell_type": "markdown",
      "source": [
        "Maximum stress on the bolt will be on threaded region in grip. Use the root/minor area.\n",
        "\n",
        "$\\sigma_b = \\frac{F_b}{A_r}$"
      ],
      "metadata": {
        "id": "NRmhLKM_TBmS"
      }
    },
    {
      "cell_type": "code",
      "source": [
        "sigma_mean = F_b_mean*1000/A_r #converting kN to N\n",
        "print(\"Mean stress on the bolt (MPa): \"+str(sigma_mean))\n",
        "sigma_alternating = F_b_alternating*1000/A_r #converting kN to N\n",
        "print(\"Alternating stress on the bolt (MPa): \"+str(sigma_alternating))\n",
        "\n",
        "print(\"Applying Modified Goodman Theory\")\n",
        "\n",
        "sigma_eqCR =sigma_alternating/(1-sigma_mean/S_u)\n",
        "print(\"Equivalent completely reversible stress (MPa): \"+str(sigma_eqCR))"
      ],
      "metadata": {
        "colab": {
          "base_uri": "https://localhost:8080/"
        },
        "id": "h1FEoaokTGse",
        "outputId": "03bb2c21-f45f-45c1-9ace-0bfcd2a99c26"
      },
      "execution_count": null,
      "outputs": [
        {
          "output_type": "stream",
          "name": "stdout",
          "text": [
            "Mean stress on the bolt (MPa): 555.5555555555555\n",
            "Alternating stress on the bolt (MPa): 123.45679012345678\n",
            "Applying Modified Goodman Theory\n",
            "Equivalent completely reversible stress (MPa): 226.6815310293571\n"
          ]
        }
      ]
    },
    {
      "cell_type": "markdown",
      "source": [
        "Estimate fatigue strength\n",
        "Using p. 247 Collins et. al. from Chapter 5"
      ],
      "metadata": {
        "id": "MgWOvCyYWXNS"
      }
    },
    {
      "cell_type": "code",
      "source": [
        "S_prime_f = 0.5*S_u\n",
        "print(\"Ideal polished sample's fatigue strength (MPa): \"+str(S_prime_f) + \" at N = 10e6 cycles\")\n",
        "\n",
        "k_sr = 0.65 # Machined Surface Finish factor (Collins et. al, Fig 5.33, at 610 MPa)\n",
        "k_sz = 0.90 # Size effect (Collins et. al, Table 5.3)\n",
        "k_r = 0.81 # Reliability factor (Collins et. al, Table 5.4)\n",
        "k_f = 1/3.5 # Geometrical discontinuity 1/K_f (K_f given)\n",
        "\n",
        "S_f = k_sr*k_sz*k_r*k_f*S_prime_f\n",
        "print(\"Fatigue strength of the Bolt (MPa): \"+str(S_f))\n",
        "\n"
      ],
      "metadata": {
        "colab": {
          "base_uri": "https://localhost:8080/"
        },
        "id": "45GQyvnMR4-c",
        "outputId": "7e0ea928-46c3-4370-dee9-7b87a200b774"
      },
      "execution_count": null,
      "outputs": [
        {
          "output_type": "stream",
          "name": "stdout",
          "text": [
            "Ideal polished sample's fatigue strength (MPa): 610.0 at N = 10e6 cycles\n",
            "Fatigue strength of the Bolt (MPa): 82.58528571428573\n"
          ]
        }
      ]
    },
    {
      "cell_type": "markdown",
      "source": [
        "Note that the estimated fatigue limit is less than the completely reversible stress,\n",
        "\n",
        "$\\sigma_{eq-CR} > S_f$\n",
        "\n",
        "Thus, infinite life is not predicted."
      ],
      "metadata": {
        "id": "CEKv7ddqXlcE"
      }
    },
    {
      "cell_type": "markdown",
      "source": [
        "To estimate life, determine linear fit,\n",
        "$S_N = blog N + S_u$ at $N=10^6$\n",
        "\n",
        "Since, $S_N= S_f = 81$ MPa\n",
        "\n",
        "$⇒81=blog(10^6) +1220$\n",
        "\n",
        "$⇒b=-189.8$ MPa\n",
        "\n",
        "$\\therefore S_N=-189.8log(N) + 1220 $"
      ],
      "metadata": {
        "id": "fi_sfd7GbidT"
      }
    },
    {
      "cell_type": "code",
      "source": [],
      "metadata": {
        "id": "jqKpUU8WWqRr"
      },
      "execution_count": null,
      "outputs": []
    }
  ]
}
{
  "nbformat": 4,
  "nbformat_minor": 0,
  "metadata": {
    "colab": {
      "provenance": [],
      "authorship_tag": "ABX9TyNjNw93sewqJxHNRgVPSXpo",
      "include_colab_link": true
    },
    "kernelspec": {
      "name": "python3",
      "display_name": "Python 3"
    },
    "language_info": {
      "name": "python"
    }
  },
  "cells": [
    {
      "cell_type": "markdown",
      "metadata": {
        "id": "view-in-github",
        "colab_type": "text"
      },
      "source": [
        "<a href=\"https://colab.research.google.com/github/arshadzahangirchowdhury/EMD/blob/main/AUC_Calc.ipynb\" target=\"_parent\"><img src=\"https://colab.research.google.com/assets/colab-badge.svg\" alt=\"Open In Colab\"/></a>"
      ]
    },
    {
      "cell_type": "code",
      "execution_count": 6,
      "metadata": {
        "colab": {
          "base_uri": "https://localhost:8080/"
        },
        "id": "sDNLJBzsvI97",
        "outputId": "412dd333-5f55-413f-ebda-f5ee3cb02f59"
      },
      "outputs": [
        {
          "output_type": "stream",
          "name": "stdout",
          "text": [
            "AUC at X = 1.66 is: 0.9515427737332772\n"
          ]
        }
      ],
      "source": [
        "import scipy\n",
        "from scipy.stats import norm\n",
        "\n",
        "# X value\n",
        "x = 1.66\n",
        "\n",
        "# Compute AUC under the standard normal curve\n",
        "auc = norm.cdf(x)\n",
        "\n",
        "print(f\"AUC at X = {x} is: {auc}\")\n"
      ]
    },
    {
      "cell_type": "code",
      "source": [
        "import scipy\n",
        "from scipy.stats import norm\n",
        "\n",
        "# X value\n",
        "x = 4.1\n",
        "\n",
        "# Compute AUC under the standard normal curve\n",
        "auc = norm.cdf(x)\n",
        "\n",
        "print(f\"AUC at X = {x} is: {auc}\")\n"
      ],
      "metadata": {
        "colab": {
          "base_uri": "https://localhost:8080/"
        },
        "id": "ewEJbpWZvJcL",
        "outputId": "b5035e21-7ca1-4fb7-83a6-9be5b18d2672"
      },
      "execution_count": 5,
      "outputs": [
        {
          "output_type": "stream",
          "name": "stdout",
          "text": [
            "AUC at X = 4.1 is: 0.9999793424930875\n"
          ]
        }
      ]
    },
    {
      "cell_type": "code",
      "source": [
        "# Matlab code\n",
        "% Value of the random variable\n",
        "x = 1.66;\n",
        "\n",
        "% Compute AUC under the standard normal distribution\n",
        "auc = normcdf(x);\n",
        "\n",
        "% Display result\n",
        "fprintf('AUC at X = %.2f is: %.4f\\n', x, auc);\n"
      ],
      "metadata": {
        "id": "s05V-ME7vscx"
      },
      "execution_count": null,
      "outputs": []
    }
  ]
}